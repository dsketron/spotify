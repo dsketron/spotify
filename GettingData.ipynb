{
 "cells": [
  {
   "cell_type": "code",
   "execution_count": 153,
   "metadata": {},
   "outputs": [],
   "source": [
    "import ast\n",
    "from typing import List\n",
    "from os import listdir\n",
    "import spotipy.util as util\n",
    "import spotipy\n",
    "import requests\n",
    "import pandas as pd"
   ]
  },
  {
   "cell_type": "code",
   "execution_count": 154,
   "metadata": {
    "scrolled": true
   },
   "outputs": [],
   "source": [
    "def get_streamings(path: str = 'MyData') -> List[dict]:\n",
    "    \n",
    "    files = ['MyData/' + x for x in listdir(path)\n",
    "             if x.split('.')[0][:-1] == 'StreamingHistory']\n",
    "    \n",
    "    all_streamings = []\n",
    "    \n",
    "    for file in files: \n",
    "        with open(file, 'r', encoding='UTF-8') as f:\n",
    "            new_streamings = ast.literal_eval(f.read())\n",
    "            all_streamings += [streaming for streaming \n",
    "                               in new_streamings]\n",
    "    return all_streamings"
   ]
  },
  {
   "cell_type": "code",
   "execution_count": 155,
   "metadata": {},
   "outputs": [],
   "source": [
    "username = 'dsketron'\n",
    "client_id ='dd4ec62f1010410cb5c44350cb5c79b2'\n",
    "client_secret = '92213c6ac1a44b3fad71c1bd32fae3b2'\n",
    "redirect_uri = 'http://localhost:7777/callback'\n",
    "scope = 'user-read-recently-played'\n",
    "\n",
    "token = util.prompt_for_user_token(username=username, \n",
    "                                   scope=scope, \n",
    "                                   client_id=client_id,   \n",
    "                                   client_secret=client_secret,     \n",
    "                                   redirect_uri=redirect_uri)"
   ]
  },
  {
   "cell_type": "code",
   "execution_count": 156,
   "metadata": {},
   "outputs": [
    {
     "name": "stdout",
     "output_type": "stream",
     "text": [
      "BQBiZm2rql-yD_a3P0mqNmWKkTWzVoowOOBExqgCHiIhS_glKLRg3A_mEnxhD-t5iDLuAfgIhUvnryzCkfTRA3vTV7WZTfosoXGJ11Oesj2iG6ydPjaAWwpB3q5eh0J-x8aiugKLwgGo6OtbqZTG\n"
     ]
    }
   ],
   "source": [
    "print(token)"
   ]
  },
  {
   "cell_type": "code",
   "execution_count": 157,
   "metadata": {},
   "outputs": [
    {
     "data": {
      "text/plain": [
       "{'access_token': 'BQDsr-yBfBfIjesdN_G7sD-XBz9CNMWwr9J3jukc4IwRUMJyWojrgtmWL3nXOyBn2-VytfVSqr_Xpc_naxUpyA-zEcuGuq8Jl0k6wKKz0RI99pUwvZx6JfV6aJXGm_VilIjwBxUQibG5zLAnTC5z',\n",
       " 'token_type': 'Bearer',\n",
       " 'expires_in': 3600,\n",
       " 'refresh_token': 'AQCeb3UPba7uld71D8MnommPk63Ddlk2r8fENXIx9Y5TLkhPOESu2rrFQs8IDtRVFO_FEdcfhi5GrHVqpuY3fR-N9ny__-ku8BIOzFEpDytCVN6Iw9rrtTnGvbNFG6fEarM',\n",
       " 'scope': 'user-read-recently-played',\n",
       " 'expires_at': 1590359901}"
      ]
     },
     "execution_count": 157,
     "metadata": {},
     "output_type": "execute_result"
    }
   ],
   "source": [
    "{\"access_token\": \"BQDsr-yBfBfIjesdN_G7sD-XBz9CNMWwr9J3jukc4IwRUMJyWojrgtmWL3nXOyBn2-VytfVSqr_Xpc_naxUpyA-zEcuGuq8Jl0k6wKKz0RI99pUwvZx6JfV6aJXGm_VilIjwBxUQibG5zLAnTC5z\", \n",
    "\"token_type\": \"Bearer\", \"expires_in\": 3600,\n",
    "\"refresh_token\": \"AQCeb3UPba7uld71D8MnommPk63Ddlk2r8fENXIx9Y5TLkhPOESu2rrFQs8IDtRVFO_FEdcfhi5GrHVqpuY3fR-N9ny__-ku8BIOzFEpDytCVN6Iw9rrtTnGvbNFG6fEarM\", \n",
    "\"scope\": \"user-read-recently-played\", \n",
    "\"expires_at\": 1590359901}"
   ]
  },
  {
   "cell_type": "code",
   "execution_count": 173,
   "metadata": {},
   "outputs": [],
   "source": [
    "def get_id(track_name: str, token: str) -> str:\n",
    "    headers = {\n",
    "    'Accept': 'application/json',\n",
    "    'Content-Type': 'application/json',\n",
    "    'Authorization': f'Bearer ' + token,\n",
    "    }\n",
    "    params = [\n",
    "    ('q', track_name),\n",
    "    ('type', 'track'),\n",
    "    ]\n",
    "    try:\n",
    "        response = requests.get('https://api.spotify.com/v1/search', \n",
    "                    headers = headers, params = params, timeout = 5)\n",
    "        json = response.json()\n",
    "        first_result = json['tracks']['items'][0]\n",
    "        track_id = first_result['id']\n",
    "        return track_id\n",
    "    except:\n",
    "        return None"
   ]
  },
  {
   "cell_type": "code",
   "execution_count": 174,
   "metadata": {},
   "outputs": [],
   "source": [
    "def get_features(track_id: str, token: str) -> dict:\n",
    "    sp = spotipy.Spotify(auth=token)\n",
    "    try:\n",
    "        features = sp.audio_features([track_id])\n",
    "        return features[0]\n",
    "    except:\n",
    "        return None"
   ]
  },
  {
   "cell_type": "code",
   "execution_count": 175,
   "metadata": {},
   "outputs": [
    {
     "name": "stdout",
     "output_type": "stream",
     "text": [
      "2ZgJ3fxDrGSi3VKe84YDAe\n"
     ]
    }
   ],
   "source": [
    "mallmisery_id = get_id('The Mall & Misery', token)\n",
    "print(mallmisery_id)"
   ]
  },
  {
   "cell_type": "code",
   "execution_count": 176,
   "metadata": {},
   "outputs": [
    {
     "data": {
      "text/plain": [
       "{'danceability': 0.585,\n",
       " 'energy': 0.653,\n",
       " 'key': 3,\n",
       " 'loudness': -6.473,\n",
       " 'mode': 0,\n",
       " 'speechiness': 0.0377,\n",
       " 'acousticness': 0.364,\n",
       " 'instrumentalness': 0.0117,\n",
       " 'liveness': 0.133,\n",
       " 'valence': 0.284,\n",
       " 'tempo': 136.937,\n",
       " 'type': 'audio_features',\n",
       " 'id': '2ZgJ3fxDrGSi3VKe84YDAe',\n",
       " 'uri': 'spotify:track:2ZgJ3fxDrGSi3VKe84YDAe',\n",
       " 'track_href': 'https://api.spotify.com/v1/tracks/2ZgJ3fxDrGSi3VKe84YDAe',\n",
       " 'analysis_url': 'https://api.spotify.com/v1/audio-analysis/2ZgJ3fxDrGSi3VKe84YDAe',\n",
       " 'duration_ms': 246973,\n",
       " 'time_signature': 4}"
      ]
     },
     "execution_count": 176,
     "metadata": {},
     "output_type": "execute_result"
    }
   ],
   "source": [
    "mallmisery_features = get_features(mallmisery_id, token)\n",
    "mallmisery_features"
   ]
  },
  {
   "cell_type": "code",
   "execution_count": 177,
   "metadata": {},
   "outputs": [],
   "source": [
    "streamings = get_streamings()\n",
    "unique_tracks = list(set([streaming['trackName']\n",
    "                for streaming in streamings]))\n",
    "\n",
    "all_features = {}\n",
    "for track in unique_tracks:\n",
    "    track_id = get_id(track, token)\n",
    "    features = get_features(track_id, token)\n",
    "    if features:\n",
    "        all_features[track] = features\n",
    "        \n",
    "with_features = []\n",
    "for track_name, features in all_features.items():\n",
    "    with_features.append({'name': track_name, **features})"
   ]
  },
  {
   "cell_type": "code",
   "execution_count": 178,
   "metadata": {},
   "outputs": [],
   "source": [
    "df = pd.DataFrame(with_features)\n",
    "df.to_csv('streaming_history.csv')"
   ]
  },
  {
   "cell_type": "code",
   "execution_count": null,
   "metadata": {},
   "outputs": [],
   "source": []
  }
 ],
 "metadata": {
  "kernelspec": {
   "display_name": "Python 3",
   "language": "python",
   "name": "python3"
  },
  "language_info": {
   "codemirror_mode": {
    "name": "ipython",
    "version": 3
   },
   "file_extension": ".py",
   "mimetype": "text/x-python",
   "name": "python",
   "nbconvert_exporter": "python",
   "pygments_lexer": "ipython3",
   "version": "3.7.4"
  }
 },
 "nbformat": 4,
 "nbformat_minor": 2
}
